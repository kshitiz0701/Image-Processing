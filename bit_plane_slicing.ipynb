{
  "cells": [
    {
      "cell_type": "code",
      "execution_count": null,
      "metadata": {
        "id": "tfAUVGw5nUaa"
      },
      "outputs": [],
      "source": [
        "import cv2\n",
        "import numpy as np\n",
        "from google.colab.patches import cv2_imshow\n",
        "\n",
        "# Loading the image\n",
        "img = cv2.imread('/content/car_image.jpg', cv2.IMREAD_GRAYSCALE)\n",
        "\n",
        "fourcc = cv2.VideoWriter_fourcc(*'mp4v') \n",
        "out = cv2.VideoWriter('bitplane_video.mp4', fourcc, 5.0, (img.shape[1], img.shape[0]))\n",
        "\n",
        "reconstructed_image = np.zeros_like(img) \n",
        "for i in range(8):\n",
        "    bit_plane = 2**i * (img // 2**i % 2) \n",
        "    reconstructed_image = cv2.bitwise_or(reconstructed_image, bit_plane) \n",
        "    out.write(reconstructed_image) \n",
        "\n",
        "    cv2_imshow( reconstructed_image)\n",
        "    cv2.waitKey(500) \n",
        "\n",
        "out.release()\n",
        "cv2.destroyAllWindows()"
      ]
    }
  ],
  "metadata": {
    "colab": {
      "provenance": []
    },
    "kernelspec": {
      "display_name": "Python 3",
      "name": "python3"
    },
    "language_info": {
      "name": "python"
    }
  },
  "nbformat": 4,
  "nbformat_minor": 0
}
